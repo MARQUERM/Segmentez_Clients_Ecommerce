{
 "cells": [
  {
   "cell_type": "markdown",
   "id": "80d0b0f2",
   "metadata": {},
   "source": [
    "# MARQUER Matthieu\n",
    "## Projet 4: Segmentez des clients d'un site e-commerce\n",
    " ![alt text](img/logo_olist_d7309b5f20.png \"Olist\")\n",
    " Partie 3\n"
   ]
  },
  {
   "cell_type": "markdown",
   "id": "d735fd09",
   "metadata": {},
   "source": [
    "### Importation des librairies"
   ]
  },
  {
   "cell_type": "code",
   "execution_count": 1,
   "id": "f8b26dcf",
   "metadata": {},
   "outputs": [],
   "source": [
    "import pandas as pd\n",
    "import numpy as np\n",
    "import matplotlib.pyplot as plt\n",
    "import seaborn as sns\n",
    "import warnings\n",
    "warnings.filterwarnings('ignore')\n",
    "from sklearn.cluster import KMeans"
   ]
  },
  {
   "cell_type": "markdown",
   "id": "4c58869a",
   "metadata": {},
   "source": [
    "### Modification des options"
   ]
  },
  {
   "cell_type": "code",
   "execution_count": 2,
   "id": "3bb614ed",
   "metadata": {},
   "outputs": [],
   "source": [
    "# https://pandas.pydata.org/docs/reference/api/pandas.set_option.html\n",
    "# pd.set_option(\"display.max_rows\", 200)\n",
    "# pd.set_option(\"display.max_colwidth\", 500)\n",
    "pd.set_option('display.max_columns', 100)"
   ]
  },
  {
   "cell_type": "markdown",
   "id": "38885b3b",
   "metadata": {},
   "source": [
    "### Importation des fichiers"
   ]
  },
  {
   "cell_type": "code",
   "execution_count": 3,
   "id": "a2454983",
   "metadata": {},
   "outputs": [],
   "source": [
    "# Import csv\n",
    "data2 = pd.read_csv('data/cleaned/data2.csv') "
   ]
  },
  {
   "cell_type": "code",
   "execution_count": 4,
   "id": "26269c0a",
   "metadata": {},
   "outputs": [],
   "source": [
    "# Modification du type en: datetime64\n",
    "data2[\"order_purchase_timestamp\"] = pd.to_datetime(data2[\"order_purchase_timestamp\"], format=\"%Y-%m-%d\")"
   ]
  },
  {
   "cell_type": "markdown",
   "id": "1198178a",
   "metadata": {},
   "source": [
    "# Stabilité dans le temps"
   ]
  },
  {
   "cell_type": "code",
   "execution_count": 5,
   "id": "7d0351d5",
   "metadata": {},
   "outputs": [
    {
     "data": {
      "text/html": [
       "<div>\n",
       "<style scoped>\n",
       "    .dataframe tbody tr th:only-of-type {\n",
       "        vertical-align: middle;\n",
       "    }\n",
       "\n",
       "    .dataframe tbody tr th {\n",
       "        vertical-align: top;\n",
       "    }\n",
       "\n",
       "    .dataframe thead th {\n",
       "        text-align: right;\n",
       "    }\n",
       "</style>\n",
       "<table border=\"1\" class=\"dataframe\">\n",
       "  <thead>\n",
       "    <tr style=\"text-align: right;\">\n",
       "      <th></th>\n",
       "      <th>recence</th>\n",
       "      <th>review_score</th>\n",
       "      <th>montant</th>\n",
       "      <th>temps_livraison</th>\n",
       "      <th>order_purchase_timestamp</th>\n",
       "    </tr>\n",
       "  </thead>\n",
       "  <tbody>\n",
       "    <tr>\n",
       "      <th>0</th>\n",
       "      <td>331</td>\n",
       "      <td>4</td>\n",
       "      <td>38.71</td>\n",
       "      <td>8</td>\n",
       "      <td>2017-10-02 10:56:33</td>\n",
       "    </tr>\n",
       "    <tr>\n",
       "      <th>1</th>\n",
       "      <td>35</td>\n",
       "      <td>4</td>\n",
       "      <td>141.46</td>\n",
       "      <td>13</td>\n",
       "      <td>2018-07-24 20:41:37</td>\n",
       "    </tr>\n",
       "    <tr>\n",
       "      <th>2</th>\n",
       "      <td>21</td>\n",
       "      <td>5</td>\n",
       "      <td>179.12</td>\n",
       "      <td>9</td>\n",
       "      <td>2018-08-08 08:38:49</td>\n",
       "    </tr>\n",
       "    <tr>\n",
       "      <th>3</th>\n",
       "      <td>283</td>\n",
       "      <td>5</td>\n",
       "      <td>72.20</td>\n",
       "      <td>13</td>\n",
       "      <td>2017-11-18 19:28:06</td>\n",
       "    </tr>\n",
       "    <tr>\n",
       "      <th>4</th>\n",
       "      <td>196</td>\n",
       "      <td>5</td>\n",
       "      <td>28.62</td>\n",
       "      <td>2</td>\n",
       "      <td>2018-02-13 21:18:39</td>\n",
       "    </tr>\n",
       "    <tr>\n",
       "      <th>...</th>\n",
       "      <td>...</td>\n",
       "      <td>...</td>\n",
       "      <td>...</td>\n",
       "      <td>...</td>\n",
       "      <td>...</td>\n",
       "    </tr>\n",
       "    <tr>\n",
       "      <th>95555</th>\n",
       "      <td>538</td>\n",
       "      <td>5</td>\n",
       "      <td>85.08</td>\n",
       "      <td>8</td>\n",
       "      <td>2017-03-09 09:54:05</td>\n",
       "    </tr>\n",
       "    <tr>\n",
       "      <th>95556</th>\n",
       "      <td>204</td>\n",
       "      <td>4</td>\n",
       "      <td>195.00</td>\n",
       "      <td>22</td>\n",
       "      <td>2018-02-06 12:58:58</td>\n",
       "    </tr>\n",
       "    <tr>\n",
       "      <th>95557</th>\n",
       "      <td>367</td>\n",
       "      <td>5</td>\n",
       "      <td>271.01</td>\n",
       "      <td>24</td>\n",
       "      <td>2017-08-27 14:46:43</td>\n",
       "    </tr>\n",
       "    <tr>\n",
       "      <th>95558</th>\n",
       "      <td>232</td>\n",
       "      <td>2</td>\n",
       "      <td>220.58</td>\n",
       "      <td>17</td>\n",
       "      <td>2018-01-08 21:28:27</td>\n",
       "    </tr>\n",
       "    <tr>\n",
       "      <th>95559</th>\n",
       "      <td>173</td>\n",
       "      <td>5</td>\n",
       "      <td>86.86</td>\n",
       "      <td>7</td>\n",
       "      <td>2018-03-08 20:57:30</td>\n",
       "    </tr>\n",
       "  </tbody>\n",
       "</table>\n",
       "<p>95560 rows × 5 columns</p>\n",
       "</div>"
      ],
      "text/plain": [
       "       recence  review_score  montant  temps_livraison  \\\n",
       "0          331             4    38.71                8   \n",
       "1           35             4   141.46               13   \n",
       "2           21             5   179.12                9   \n",
       "3          283             5    72.20               13   \n",
       "4          196             5    28.62                2   \n",
       "...        ...           ...      ...              ...   \n",
       "95555      538             5    85.08                8   \n",
       "95556      204             4   195.00               22   \n",
       "95557      367             5   271.01               24   \n",
       "95558      232             2   220.58               17   \n",
       "95559      173             5    86.86                7   \n",
       "\n",
       "      order_purchase_timestamp  \n",
       "0          2017-10-02 10:56:33  \n",
       "1          2018-07-24 20:41:37  \n",
       "2          2018-08-08 08:38:49  \n",
       "3          2017-11-18 19:28:06  \n",
       "4          2018-02-13 21:18:39  \n",
       "...                        ...  \n",
       "95555      2017-03-09 09:54:05  \n",
       "95556      2018-02-06 12:58:58  \n",
       "95557      2017-08-27 14:46:43  \n",
       "95558      2018-01-08 21:28:27  \n",
       "95559      2018-03-08 20:57:30  \n",
       "\n",
       "[95560 rows x 5 columns]"
      ]
     },
     "execution_count": 5,
     "metadata": {},
     "output_type": "execute_result"
    }
   ],
   "source": [
    "# Copie du DF avec choix des variables\n",
    "data_stabilite = data2[[\"recence\", \"review_score\", \"montant\", \"temps_livraison\", \"order_purchase_timestamp\"]]\n",
    "data_stabilite"
   ]
  },
  {
   "cell_type": "code",
   "execution_count": 6,
   "id": "db66791f",
   "metadata": {},
   "outputs": [],
   "source": [
    "# Fonction qui ajoute 1 mois a une date et modifie l'année au besoin\n",
    "\n",
    "import calendar\n",
    "\n",
    "def un_mois_sup(base):\n",
    "\n",
    "    new_year = base.year\n",
    "    new_month = base.month + 1\n",
    "    # Si sup a 12 change l'année\n",
    "    if new_month > 12:\n",
    "        new_year += 1\n",
    "        new_month -= 12\n",
    "\n",
    "    last_day_of_month = calendar.monthrange(new_year, new_month)[1]\n",
    "    new_day = min(base.day, last_day_of_month)\n",
    "\n",
    "    return base.replace(year=new_year, month=new_month, day=new_day)"
   ]
  },
  {
   "cell_type": "code",
   "execution_count": 7,
   "id": "20cacfee",
   "metadata": {},
   "outputs": [
    {
     "name": "stdout",
     "output_type": "stream",
     "text": [
      "B0 créé avec 42190 lignes.\n",
      "B1 créé avec 48388 lignes.\n",
      "B2 créé avec 55318 lignes.\n",
      "B3 créé avec 61992 lignes.\n",
      "B4 créé avec 68728 lignes.\n",
      "B5 créé avec 76061 lignes.\n",
      "B6 créé avec 81699 lignes.\n",
      "B7 créé avec 87329 lignes.\n",
      "B8 créé avec 95207 lignes.\n"
     ]
    }
   ],
   "source": [
    "# Creation des bases futures B0 à Bn \n",
    "\n",
    "import datetime\n",
    "from dateutil.relativedelta import relativedelta\n",
    "\n",
    "# Enregistrement de la premiere date d'achat global\n",
    "date_min = data_stabilite.order_purchase_timestamp.min()\n",
    "\n",
    "# 1 an par rapport à la 1ère date\n",
    "date_annee_un = date_min + datetime.timedelta(days=365)\n",
    "\n",
    "# Enregistrement de la derniere date d'achat global\n",
    "date_max = data_stabilite.order_purchase_timestamp.max()\n",
    "\n",
    "# Initialisation liste des DF\n",
    "dataframes_list = []\n",
    "\n",
    "# Différence entre date_max et date_annee_un\n",
    "difference = relativedelta(date_max, date_annee_un)\n",
    "\n",
    "# Nombre total de mois apres l'année (1)\n",
    "nombre_de_mois = difference.years * 12 + difference.months + 1\n",
    "\n",
    "# Boucle de creation des DataFrames\n",
    "for suffix in range(nombre_de_mois):\n",
    "    # Nom du DataFrame en fonction du suffixe\n",
    "    nom_df = f\"B{suffix}\"\n",
    "    \n",
    "    # Création du DataFrame jusqu'à la derniere date\n",
    "    current_df = data_stabilite.loc[data_stabilite[\"order_purchase_timestamp\"] <= date_annee_un]\n",
    "    \n",
    "    # Ajout du DataFrame à la liste\n",
    "    dataframes_list.append((nom_df, current_df))\n",
    "    \n",
    "    # Vérification\n",
    "    print(f\"{nom_df} créé avec {current_df.shape[0]} lignes.\")\n",
    "    \n",
    "    # Maj de la date pour la prochaine itération\n",
    "    date_annee_un = un_mois_sup(date_annee_un)\n",
    "\n",
    "# Affichage des noms de DataFrames créés\n",
    "for nom_df, df in dataframes_list:\n",
    "    globals()[nom_df] = df"
   ]
  },
  {
   "cell_type": "code",
   "execution_count": 8,
   "id": "42259e1b",
   "metadata": {},
   "outputs": [
    {
     "name": "stdout",
     "output_type": "stream",
     "text": [
      "B0: 2016-12-23 23:16:47 - 2017-12-23 22:51:50\n",
      "B1: 2016-12-23 23:16:47 - 2018-01-23 23:08:12\n",
      "B2: 2016-12-23 23:16:47 - 2018-02-23 22:57:27\n",
      "B3: 2016-12-23 23:16:47 - 2018-03-23 23:13:01\n",
      "B4: 2016-12-23 23:16:47 - 2018-04-23 23:06:56\n",
      "B5: 2016-12-23 23:16:47 - 2018-05-23 22:55:00\n",
      "B6: 2016-12-23 23:16:47 - 2018-06-23 23:04:33\n",
      "B7: 2016-12-23 23:16:47 - 2018-07-23 22:48:57\n",
      "B8: 2016-12-23 23:16:47 - 2018-08-23 23:15:26\n"
     ]
    }
   ],
   "source": [
    "# Vérification des dates\n",
    "for suffix in range(nombre_de_mois):\n",
    "    nom_df = f\"B{suffix}\"\n",
    "    current_df = globals()[nom_df]\n",
    "    \n",
    "    print(f\"{nom_df}: {current_df.order_purchase_timestamp.min()} - {current_df.order_purchase_timestamp.max()}\")"
   ]
  },
  {
   "cell_type": "code",
   "execution_count": 9,
   "id": "237d80b4",
   "metadata": {},
   "outputs": [
    {
     "name": "stdout",
     "output_type": "stream",
     "text": [
      "C0 créé avec 42190 lignes.\n",
      "C1 créé avec 48388 lignes.\n",
      "C2 créé avec 55318 lignes.\n",
      "C3 créé avec 61992 lignes.\n",
      "C4 créé avec 68728 lignes.\n",
      "C5 créé avec 76061 lignes.\n",
      "C6 créé avec 81699 lignes.\n",
      "C7 créé avec 87329 lignes.\n",
      "C8 créé avec 95207 lignes.\n"
     ]
    }
   ],
   "source": [
    "# Clustering C0 à Cn \n",
    "\n",
    "# Nombre de clusters\n",
    "best_k = 4  ############################# nombre_clusters  = 4 ou best_k  #################################\n",
    "\n",
    "# Initialisation de la liste des modèles\n",
    "clustering_models = []\n",
    "\n",
    "# Clustering pour B0\n",
    "b0_data = B0[['recence', 'montant', 'review_score', 'temps_livraison']]\n",
    "c0_cluster = KMeans(n_clusters=best_k, random_state=42)\n",
    "c0_labels = c0_cluster.fit_predict(b0_data)\n",
    "clustering_models.append(('C0', c0_cluster))\n",
    "\n",
    "# Clustering pour les bases futures B1, B2, ... Bn\n",
    "for suffix in range(nombre_de_mois): \n",
    "    nom_df = f\"B{suffix}\"\n",
    "    current_data = globals()[nom_df][['recence', 'montant', 'review_score', 'temps_livraison']] \n",
    "    current_cluster = KMeans(n_clusters=best_k, random_state=42)\n",
    "    current_labels = current_cluster.fit_predict(current_data)\n",
    "    clustering_models.append((f'C{suffix}', current_cluster))\n",
    "\n",
    "    # Affichage pour vérification\n",
    "    print(f\"C{suffix} créé avec {current_data.shape[0]} lignes.\")\n",
    "\n",
    "# Affichage des noms de modèles de clustering créés\n",
    "for model_name, model in clustering_models:\n",
    "    globals()[model_name] = model"
   ]
  },
  {
   "cell_type": "code",
   "execution_count": 10,
   "id": "99176dec",
   "metadata": {},
   "outputs": [
    {
     "name": "stdout",
     "output_type": "stream",
     "text": [
      "B0_by_C0 créé avec 42190 labels.\n",
      "B1_by_C0 créé avec 48388 labels.\n",
      "B2_by_C0 créé avec 55318 labels.\n",
      "B3_by_C0 créé avec 61992 labels.\n",
      "B4_by_C0 créé avec 68728 labels.\n",
      "B5_by_C0 créé avec 76061 labels.\n",
      "B6_by_C0 créé avec 81699 labels.\n",
      "B7_by_C0 créé avec 87329 labels.\n",
      "B8_by_C0 créé avec 95207 labels.\n"
     ]
    }
   ],
   "source": [
    "# Segmenter B1, B2, ..., BN avec le modèle C0\n",
    "for suffix in range(nombre_de_mois): \n",
    "    nom_df = f\"B{suffix}\"\n",
    "    current_data = globals()[nom_df][['recence', 'montant', 'review_score', 'temps_livraison']]\n",
    "    current_labels_c0 = c0_cluster.predict(current_data)\n",
    "    globals()[f'{nom_df}_by_C0'] = current_labels_c0\n",
    "\n",
    "    # Affichage pour vérification\n",
    "    print(f\"{nom_df}_by_C0 créé avec {len(current_labels_c0)} labels.\")"
   ]
  },
  {
   "cell_type": "code",
   "execution_count": 11,
   "id": "f747d1f2",
   "metadata": {},
   "outputs": [
    {
     "name": "stdout",
     "output_type": "stream",
     "text": [
      "1: B0_by_C0 créé avec 42190 labels.\n",
      "2: B1_by_C1 créé avec 48388 labels.\n",
      "3: B2_by_C2 créé avec 55318 labels.\n",
      "4: B3_by_C3 créé avec 61992 labels.\n",
      "5: B4_by_C4 créé avec 68728 labels.\n",
      "6: B5_by_C5 créé avec 76061 labels.\n",
      "7: B6_by_C6 créé avec 81699 labels.\n",
      "8: B7_by_C7 créé avec 87329 labels.\n",
      "9: B8_by_C8 créé avec 95207 labels.\n"
     ]
    }
   ],
   "source": [
    "# Segmentation B0 avec C0, B1 avec C1.... \n",
    "compteur = 0\n",
    "\n",
    "# Liste pour stocker les noms de variables résultantes b1_by_c1, b2_by_c2, ..., bN_by_CN\n",
    "result_variables = []\n",
    "\n",
    "# Entraînement et segmentation de chaque modèle C1, C2, ..., CN\n",
    "for suffix_c in range(nombre_de_mois):\n",
    "    # Nom du modèle de clustering\n",
    "    cluster_model_name = f\"C{suffix_c}\"\n",
    "    \n",
    "    # Création du modèle de clustering correspondant\n",
    "    cluster_model = KMeans(n_clusters=best_k, random_state=42)\n",
    "    clustering_models.append(cluster_model)\n",
    "    \n",
    "    # Entraînement du modèle avec le DataFrame correspondant\n",
    "    nom_df = f\"B{suffix_c}\"\n",
    "    current_data = globals()[nom_df][['recence', 'montant', 'review_score', 'temps_livraison']] \n",
    "    cluster_model.fit(current_data)\n",
    "    \n",
    "    # Segmentation de la base B avec le modèle de clustering correspondant\n",
    "    current_labels_b = cluster_model.predict(current_data)\n",
    "    result_variable_name = f\"{nom_df}_by_{cluster_model_name}\"\n",
    "    globals()[result_variable_name] = current_labels_b\n",
    "    result_variables.append(result_variable_name)\n",
    "    compteur = compteur + 1\n",
    "\n",
    "    # Affichage pour vérification\n",
    "    print(f\"{compteur}: {result_variable_name} créé avec {len(current_labels_b)} labels.\")"
   ]
  },
  {
   "cell_type": "code",
   "execution_count": 12,
   "id": "459d1c81",
   "metadata": {},
   "outputs": [
    {
     "data": {
      "text/html": [
       "<div>\n",
       "<style scoped>\n",
       "    .dataframe tbody tr th:only-of-type {\n",
       "        vertical-align: middle;\n",
       "    }\n",
       "\n",
       "    .dataframe tbody tr th {\n",
       "        vertical-align: top;\n",
       "    }\n",
       "\n",
       "    .dataframe thead th {\n",
       "        text-align: right;\n",
       "    }\n",
       "</style>\n",
       "<table border=\"1\" class=\"dataframe\">\n",
       "  <thead>\n",
       "    <tr style=\"text-align: right;\">\n",
       "      <th></th>\n",
       "      <th>B</th>\n",
       "      <th>Rand Score</th>\n",
       "    </tr>\n",
       "  </thead>\n",
       "  <tbody>\n",
       "    <tr>\n",
       "      <th>0</th>\n",
       "      <td>B0</td>\n",
       "      <td>1.000000</td>\n",
       "    </tr>\n",
       "    <tr>\n",
       "      <th>1</th>\n",
       "      <td>B1</td>\n",
       "      <td>0.829475</td>\n",
       "    </tr>\n",
       "    <tr>\n",
       "      <th>2</th>\n",
       "      <td>B2</td>\n",
       "      <td>0.739717</td>\n",
       "    </tr>\n",
       "    <tr>\n",
       "      <th>3</th>\n",
       "      <td>B3</td>\n",
       "      <td>0.672210</td>\n",
       "    </tr>\n",
       "    <tr>\n",
       "      <th>4</th>\n",
       "      <td>B4</td>\n",
       "      <td>0.630230</td>\n",
       "    </tr>\n",
       "    <tr>\n",
       "      <th>5</th>\n",
       "      <td>B5</td>\n",
       "      <td>0.585344</td>\n",
       "    </tr>\n",
       "    <tr>\n",
       "      <th>6</th>\n",
       "      <td>B6</td>\n",
       "      <td>0.556321</td>\n",
       "    </tr>\n",
       "    <tr>\n",
       "      <th>7</th>\n",
       "      <td>B7</td>\n",
       "      <td>0.543285</td>\n",
       "    </tr>\n",
       "    <tr>\n",
       "      <th>8</th>\n",
       "      <td>B8</td>\n",
       "      <td>0.353132</td>\n",
       "    </tr>\n",
       "  </tbody>\n",
       "</table>\n",
       "</div>"
      ],
      "text/plain": [
       "    B  Rand Score\n",
       "0  B0    1.000000\n",
       "1  B1    0.829475\n",
       "2  B2    0.739717\n",
       "3  B3    0.672210\n",
       "4  B4    0.630230\n",
       "5  B5    0.585344\n",
       "6  B6    0.556321\n",
       "7  B7    0.543285\n",
       "8  B8    0.353132"
      ]
     },
     "execution_count": 12,
     "metadata": {},
     "output_type": "execute_result"
    }
   ],
   "source": [
    "# Comparaison de la segmentation entre C0 et les autres modèles\n",
    "from sklearn.metrics import adjusted_rand_score\n",
    "\n",
    "# Initialisation d'une liste pour stocker les résultats\n",
    "rand_scores_list = []\n",
    "\n",
    "# Comparaison de la segmentation entre C0 et les autres modèles\n",
    "for suffix in range(nombre_de_mois):\n",
    "    nom_df_c0 = f\"B{suffix}_by_C0\"\n",
    "    nom_df_cx = f\"B{suffix}_by_C{suffix}\"\n",
    "    \n",
    "    labels_c0 = globals()[nom_df_c0]\n",
    "    labels_cx = globals()[nom_df_cx]\n",
    "    \n",
    "    rand_score = adjusted_rand_score(labels_c0, labels_cx)\n",
    "    rand_scores_list.append([f\"B{suffix}\", rand_score])\n",
    "\n",
    "# Création du DataFrame \"rand_scores_df\"\n",
    "rand_scores_df = pd.DataFrame(rand_scores_list, columns=['B', 'Rand Score'])\n",
    "rand_scores_df"
   ]
  },
  {
   "cell_type": "code",
   "execution_count": 13,
   "id": "ff2b4d9a",
   "metadata": {},
   "outputs": [
    {
     "data": {
      "image/png": "[encoded data removed]",
      "text/plain": [
       "<Figure size 432x288 with 1 Axes>"
      ]
     },
     "metadata": {
      "needs_background": "light"
     },
     "output_type": "display_data"
    }
   ],
   "source": [
    "# Graphique de l'evolution de l'indice de rand\n",
    "plt.plot(rand_scores_df.B, rand_scores_df[\"Rand Score\"])\n",
    "plt.title(\"Évolution de l'ARI entre C0 et les autres Clustering\")\n",
    "plt.xlabel('Mois')\n",
    "plt.ylabel('ARI')\n",
    "plt.grid(True)\n",
    "plt.show()"
   ]
  }
 ],
 "metadata": {
  "kernelspec": {
   "display_name": "Python 3 (ipykernel)",
   "language": "python",
   "name": "python3"
  },
  "language_info": {
   "codemirror_mode": {
    "name": "ipython",
    "version": 3
   },
   "file_extension": ".py",
   "mimetype": "text/x-python",
   "name": "python",
   "nbconvert_exporter": "python",
   "pygments_lexer": "ipython3",
   "version": "3.9.7"
  }
 },
 "nbformat": 4,
 "nbformat_minor": 5
}
